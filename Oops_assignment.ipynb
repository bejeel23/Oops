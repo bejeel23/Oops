{
  "nbformat": 4,
  "nbformat_minor": 0,
  "metadata": {
    "colab": {
      "provenance": []
    },
    "kernelspec": {
      "name": "python3",
      "display_name": "Python 3"
    },
    "language_info": {
      "name": "python"
    }
  },
  "cells": [
    {
      "cell_type": "markdown",
      "source": [
        "Q1. What is Object-Oriented Programming (OOP)?\n",
        "\n",
        "**Ans**-. Object-Oriented Programming (OOP) is a programming paradigm (a way of writting code) that  is based on the concept of objects.\n",
        "\n",
        ". Objects are real-world entities (like a car, a student, or a bank account) represented in code\n",
        "\n",
        ". Each object has:\n",
        "\n",
        ". Attributes.\n",
        "\n",
        ". Methods.\n",
        "\n",
        ". Key features of oop:\n",
        "\n",
        "1. Class and object\n",
        "2. Encapsulation\n",
        "3. Inheritance\n",
        "4. Polymorphism\n",
        "5. Abstraction\n",
        "\n",
        "Q2. What is a class in OOP?\n",
        "\n",
        "**Ans**-. A class is a **blueprint** or **template** for creating objects.\n",
        "\n",
        ". For example:\n",
        "\n",
        ". Class: \"Car\" - says every car has colour, brand , model, and can drive() or brake().\n",
        "\n",
        ". Object: \"My car\" - A red BMW created from the car class.\n",
        "\n",
        "Q3. What is an object in OOP?\n",
        "\n",
        "**Ans**-. An object is an instance of a class.\n",
        "\n",
        ". if a classs is a blueprint (design/plan).\n",
        "\n",
        ". then an object is the real thing that is created from that blueprint.\n",
        "\n",
        ". For example:\n",
        "\n",
        ". Class; \"car\" (blueprint that says a car has brand, colour, and can drive()).\n",
        "\n",
        ". Objects:\n",
        "\n",
        "1. car1-- Red BMW\n",
        "2. car2-- Blue Toyota\n",
        "\n",
        "both are vcars but each one has its own unique values.\n",
        "\n",
        "Q4. What is the difference between abstraction and encapsulation?\n",
        "\n",
        "**Ans**-. 1. **Abstraction**--\n",
        "\n",
        "Definition: Abstraction is about hiding the implementation details and showing only the essential features.\n",
        "\n",
        ". Focus: What an object does.\n",
        "\n",
        ". Example: When you drive a car, you just use the streeing , break , and accelerator. You don't need to know howw the engine, gears, or fuel injection works internally.\n",
        "\n",
        ".2 Encapsulation--\n",
        "\n",
        "Definition: Encapsulation is about wrapping data (attributes) and methods (function) into a single units (class) and restricting direct access to the data.\n",
        "\n",
        ". Focus: How the data is protected and accessed.\n",
        "\n",
        ". Example: A bank account hides the balance and only allows access through deposit() or withdraw() methods, not directly.\n",
        "\n",
        "Q5.What are dunder methods in Python?\n",
        "\n",
        "**Ans**-. **Dunder (Double underscore) Methods in python**\n",
        "\n",
        "In pyhton, dunder methods (also called magice methods or special methods ) are methods that starts and end with double underscores (like _ _ init _ _ ,_ _ str _ _ ,_ _ len _ _)\n",
        "\n",
        "They allows us to define how object of a class should nbehave with built-in functions and operators.\n",
        "\n",
        "**Some Common Dunder Methods**\n",
        "\n",
        "1. _ _ init _ _ > Constructor, called when an object is created.\n",
        "\n",
        "2. _ _ str _ _ > Defines how the object is displayed when printed.\n",
        "\n",
        "3. _ _ len _ _ > Define behavior of len() function.\n",
        "\n",
        "4. _ _ add _ _ > Defines behavior of the + operator.\n",
        "\n",
        "**Explanation of this Dunder method**\n",
        "\n",
        ". _ _ init _ _ initialize the object with title and pages.\n",
        "\n",
        ". _ _ str _ _ makes the object readable when printed.\n",
        "\n",
        ". _ _ len _ _ allows us to use len() on the object.\n",
        "\n",
        ". _ _ add _ _ let us add two Book object using the + operators.\n",
        "\n",
        "\n",
        "Q6. Explain the concept of inheritance in OOP?\n",
        "\n",
        "**Ans**-. Inheritance in oop.\n",
        "\n",
        "Definition: Inheritance is an object-oriented programming concept that allows a class (child/derived class) to use the properties and methods of another class (parent/base class).\n",
        "\n",
        "It helps in code reusability and makes programs easier to maintain.\n",
        "\n",
        "**key points**\n",
        "\n",
        "1. Parent/Base class-- The class whose properties are inherited.\n",
        "\n",
        "2. Child/Derived Class -- The class that inherits from the parents.\n",
        "\n",
        "3. Types of Inheritance (pyhton supports all):\n",
        "\n",
        ". Single Inheritance -- One chlid inherits from one parent.\n",
        "\n",
        ". Multiple Inheritance -- One chlid inherits from multiple parents.\n",
        "\n",
        ". Multilevel Inheritance -- chlid inherits from parents and another class inherites from that child.\n",
        "\n",
        ". Hierarchical Inheritance-- Multiple children inherites from one parents.\n",
        "\n",
        "**In short**\n",
        "\n",
        "**Inheritance = Reusing parents class properties/methods in chlid class without rewritting the code**.\n",
        "\n",
        "Q7. What is polymorphism in OOP?\n",
        "\n",
        "**Ans**-.\n",
        "**Definition**:\n",
        "\n",
        "Polymorphism means \" many forms\".\n",
        "\n",
        "In oop, polymorphism allows the same function or operator to behave differently depending on the object or context.\n",
        "\n",
        "**key idea**\n",
        "\n",
        ". One interface-- Many implementations.\n",
        "\n",
        ". Example (real life): the world \"draw\" can mean:\n",
        "\n",
        ".. A pencil drawing on paper.\n",
        "\n",
        ".. A cricket match ending in a draw.\n",
        "\n",
        ".. A gun beging drawn out. Same word, different meanings depending on context.\n",
        "\n",
        "**Types of Polymorphism**\n",
        "\n",
        "1. Method overloading(Runtime Polymorphism)\n",
        "\n",
        ". Chlid class provides a new implementation of a method from the parents class.\n",
        "\n",
        "2. Method overloading (compile-time polymorphism)\n",
        "\n",
        ". In some languages you can define multiple method with the same name but different parameters.\n",
        "\n",
        ". Python does not supports method overloading directly but we can simulate it with default arguments or *args\n",
        "\n",
        "Q8 How is encapsulation achieved in Python?\n",
        "\n",
        "**Ans**-. Encapsulation is the process of binding data (variable/attributes) and methods (functions) into a single units (class) and restricting direct access to the data from outside the class.\n",
        "\n",
        "It helps in data hiding, security, and controlled access.\n",
        "\n",
        "**How Encapsulatio is Achieved in Python**\n",
        "\n",
        "Python does not have strict access modifiers like java or c++.Instead, it uses conventions with underscores:\n",
        "\n",
        "1. Publice Members-- Accessible everywhere (no underscore).\n",
        "\n",
        "2. Protected Members-- Indicated with a single underscore_var (should not be accessed directly outside the class).\n",
        "\n",
        "3. Private Members-- Indicated with double underscore_ _var(name mangled, not eaisly accessible outside the class)\n",
        "\n",
        "# Encapsulation Example in Python\n",
        "\n",
        "class Student:\n",
        "    def __init__(self, name, age):\n",
        "        self.name = name          # Public attribute\n",
        "        self._age = age           # Protected attribute\n",
        "        self.__marks = 0          # Private attribute\n",
        "\n",
        "    # Public method\n",
        "    def display_info(self):\n",
        "        print(\"Name:\", self.name)\n",
        "        print(\"Age:\", self._age)\n",
        "\n",
        "    # Setter method (to modify private data)\n",
        "    def set_marks(self, marks):\n",
        "        if marks >= 0 and marks <= 100:\n",
        "            self.__marks = marks\n",
        "        else:\n",
        "            print(\"Invalid Marks\")\n",
        "\n",
        "    # Getter method (to access private data)\n",
        "    def get_marks(self):\n",
        "        return self.__marks\n",
        "\n",
        "# Creating object\n",
        "s1 = Student(\"Rahul\", 20)\n",
        "\n",
        "# Accessing public attribute\n",
        "print(\"Student Name:\", s1.name)\n",
        "\n",
        "# Accessing protected attribute (possible, but not recommended)\n",
        "print(\"Student Age:\", s1._age)\n",
        "\n",
        "# Accessing private attribute directly will give error\n",
        "# print(s1.__marks)  # ❌ AttributeError\n",
        "\n",
        "# Correct way: using getter and setter methods\n",
        "s1.set_marks(85)\n",
        "\n",
        "print(\"Student Marks:\", s1.get_marks())\n",
        "\n",
        "Q9. What is a constructor in Python?\n",
        "\n",
        "**Ans**-.**Definition**\n",
        "\n",
        "A constructor in Python is a special method that is automatically called when an object of a class is created.\n",
        "\n",
        ". In python the constructor method is always named _ _ init _ _ ().\n",
        "\n",
        ". It is mainly used to initialize object attributes when the object is created.\n",
        "\n",
        "**Key points**\n",
        "\n",
        "1. Constructor method - _ _ init _ _ ().\n",
        "\n",
        "2. It runs atuomatically when we create an object.\n",
        "\n",
        "3. It is used to assign initaly values to object's attributes.\n",
        "\n",
        "Q10. What are class and static methods in Python?\n",
        "\n",
        "**Ans**-. 1. **Class Method**\n",
        "\n",
        ". A class method is a method that works with the class itself rather than individual objects.\n",
        "\n",
        ". It is defined using the @classmethod decorator.\n",
        "\n",
        ". The first parameter is always cls, which refers to the class.\n",
        "\n",
        ". Used when you need to access or modifiy class-level variables.\n",
        "\n",
        ".2. **Static Method**\n",
        "\n",
        ". A static method is a method that does not depends on the class or instance.\n",
        "\n",
        ". It is defined using the @staticmethod decorator.\n",
        "\n",
        ". It behaves like a normal function but belongs to the class's namespace.\n",
        "\n",
        ". Used when you want utility function inside a class.\n",
        "\n",
        "**In short**\n",
        "\n",
        ".**Class method**: Work with the class itself (access class variable)\n",
        "\n",
        ".**Static method**: General utility methods, do not depend on class or object data.\n",
        "\n",
        "Q11. What is method overloading in Python?\n",
        "\n",
        "**Ans**-. **Definition**\n",
        "\n",
        "Method overloading means defining multiples methods with the same name but different parameters.\n",
        "\n",
        ". In many programming languages (like Java, c++) true method overloading is  supported.\n",
        "\n",
        ". In python, true method overloading is not directly supported.\n",
        "\n",
        ". But we can achieve it using:\n",
        "\n",
        "1. Default arguments\n",
        "\n",
        "2. Variable-length arguments(*args)\n",
        "\n",
        "# Method Overloading Example in Python\n",
        "\n",
        "class MathOperations:\n",
        "    # Single method with default parameters\n",
        "    def add(self, a=0, b=0, c=0):\n",
        "        return a + b + c\n",
        "\n",
        "# Creating object\n",
        "obj = MathOperations()\n",
        "\n",
        "print(\"Sum of two numbers:\", obj.add(5, 10))          # 2 arguments\n",
        "\n",
        "print(\"Sum of three numbers:\", obj.add(5, 10, 15))    # 3 arguments\n",
        "\n",
        "print(\"Sum with one argument:\", obj.add(7))           # 1 argument\n",
        "\n",
        "print(\"Sum with no argument:\", obj.add())             # 0 argument\n",
        "\n",
        "Q12. What is method overriding in OOP?\n",
        "\n",
        "**Ans**-. **Definition**\n",
        "\n",
        "Method overriding occurs when a child (derived) class provides a new implementation of a method that is already defined in its parent (base) class.\n",
        "\n",
        ". The method name, paramters, and return type must be the same.\n",
        "\n",
        ". The child's method replaces (overrides) trhe parent's method whne called on the chlid object.\n",
        "\n",
        ". It is an example of runtime polymorphism.\n",
        "\n",
        "**Key points**\n",
        "\n",
        "1. Method must exist in both parent and child classes.\n",
        "\n",
        "2. Chlid class method overrides the parent method.\n",
        "\n",
        "3. Achieved by defining a method in the child class with the same name  as in the parent class.\n",
        "\n",
        "**Method overriding = Redefining a parent class method in the chlid class with the same name and parameters, to give it a new behaivor**\n",
        "\n",
        "Q13.What is a property decorator in Python?\n",
        "\n",
        "**Ans**-. The @property decorator in python is used to convert a method into a property (attribute).\n",
        "\n",
        "It allows us to access methods like attributes without using parentheses().\n",
        "\n",
        "It is often used to implement getters, setters and deleters in a clean and pythonics way.\n",
        "\n",
        "**Why to use @property?**\n",
        "\n",
        ". To control access to attributes.\n",
        "\n",
        ". To make read only attributes.\n",
        "\n",
        ". To validate data when settings values.\n",
        "\n",
        ". To make code look cleaner.\n",
        "\n",
        "(The @property decorator is used to define getter, setter, and deleter methods in a clean way so attributes can be accessed and modified safely like normal variable but with extra logic inside.)\n",
        "\n",
        "Q14.Why is polymorphism important in OOP?\n",
        "\n",
        "**Ans**-. Polymorphism means **many forms** it allow the same function, operators, or method name to behave differently depending on the object.\n",
        "\n",
        "**Importance of polymorphism in oop**\n",
        "\n",
        "1. Code reusability\n",
        "\n",
        "2. Flexibility and Extensibility\n",
        "\n",
        "3. Readability and Simplicity\n",
        "\n",
        "4. Supports Runtime Behavior\n",
        "\n",
        "5. Encourages Loose Coupling.\n",
        "\n",
        "**Polymorphism is important in oop because it makes prograne more reuseable, flexible, and easier to maintain, while allowing the same interface (method or operator) to work with different kinds of objects.**\n",
        "\n",
        "Q15.What is an abstract class in Python?\n",
        "\n",
        "**Ans**-. An abstract class is a class that cannot be instantiated (you cannot create objects directly from it).\n",
        "\n",
        ". It is used as bluprotn for other classes.\n",
        "\n",
        ". It may contain one or more abstract method.\n",
        "\n",
        ". Subclasses must implement the abstract methods to be usable.\n",
        "\n",
        "**Why to use abstract classes**\n",
        "\n",
        "1. To provide a common interface for all child classes.\n",
        "\n",
        "2. To ensure that certain methods must be implemented in derived classes.\n",
        "\n",
        "3. Helps in achieving abstraction (hiding implementation showing only the idea).\n",
        "\n",
        "**from abc import ABC, abstractmethod**\n",
        "\n",
        "# Abstract class\n",
        "class Animal(ABC):\n",
        "\n",
        "    @abstractmethod\n",
        "    def sound(self):\n",
        "        pass  # Abstract method (no implementation)\n",
        "\n",
        "    def info(self):\n",
        "        print(\"This is an animal class.\")  # Concrete method\n",
        "\n",
        "# Subclass implementing abstract method\n",
        "class Dog(Animal):\n",
        "\n",
        "    def sound(self):\n",
        "        return \"Bark\"\n",
        "\n",
        "# Subclass implementing abstract method\n",
        "class Cat(Animal):\n",
        "\n",
        "    def sound(self):\n",
        "        return \"Meow\"\n",
        "\n",
        "# Creating objects\n",
        "dog = Dog()\n",
        "\n",
        "cat = Cat()\n",
        "\n",
        "print(dog.sound())  # Output: Bark\n",
        "\n",
        "print(cat.sound())  # Output: Meow\n",
        "\n",
        "dog.info()          # Output: This is an animal class.\n",
        "\n",
        "Q16.What are the advantages of OOP?\n",
        "\n",
        "**Ans**-. Object-Oriented Programming (OOP) is a programming paradigm based on the concept of classes and objects.\n",
        "\n",
        "It provides several advantages that make software development easier, more efficient, and more maintainable.\n",
        "\n",
        "1. Core Reusability.\n",
        "\n",
        "2. Data Security(Encapsulation).\n",
        "\n",
        "3. Abstraction.\n",
        "\n",
        "4. Polymorphism.\n",
        "\n",
        "5. Easy to maintain.\n",
        "\n",
        "6. Extensibility and flexibility.\n",
        "\n",
        "7. Real-World Modeling.\n",
        "\n",
        "8. Improved Productivity.\n",
        "\n",
        "Q17.What is the difference between a class variable and an instance variable?\n",
        "\n",
        "**Ans**-. In python classes we can define two types of variables:\n",
        "\n",
        ". **Class Variable**\n",
        "\n",
        "1. Belongs to the class.\n",
        "\n",
        "2. Shared by all objects (instance) of the class.\n",
        "\n",
        "3. Defined inside the class but outside any method.\n",
        "\n",
        ".**Instance variable**\n",
        "\n",
        "1. Belongs to a specifice object (instance)\n",
        "\n",
        "2. Each object has its own copy of instance variables.\n",
        "\n",
        "3. Defined inside the constructor (_ _ init _ _ ) using self.\n",
        "\n",
        "| Feature            | Class variable       | Instance variable     |\n",
        "|--------------------|-------------------|------------------|\n",
        "| Belongs to       | The class itself      | Each object    |\n",
        "| Shared by     | All object| Only one specific object  |\n",
        "| Defined  | Inside class outside methods            |inside constructor            |\n",
        "| Memory | Single copy for the class| Seperate copy for each object            |\n",
        "\n",
        "Q18. What is multiple inheritance in Python?\n",
        "\n",
        "**Ans**-. **Definition**\n",
        "\n",
        "Multiple inheritance is a feature in object-oriented programming where a class can inherit from more than one parent class.\n",
        "\n",
        ". This means a child class can access properties and methods of multiple parent classes.\n",
        "\n",
        ". Python fully supports multiple inheritance.\n",
        "\n",
        "Q19.Explain the purpose of ‘’ _ _ str _ _ ’ and ‘ _ _ repr _ _ ’ ‘ methods in Python?\n",
        "\n",
        "**Ans**-.Purpose of __str__ and __repr__ methods in Python\n",
        "\n",
        "Both\" _ _ str _ _' and ' _ _ repr _ _ \" are special methods (dunder methods) in Python used to define how objects of a class should be represented as a string.\n",
        "\n",
        "✅ __str__ (User-Friendly Representation)\n",
        "\n",
        ".Purpose: To return a readable and user-friendly string representation of the object.\n",
        "\n",
        ".Used when you call print(obj) or str(obj).\n",
        "\n",
        ".It should describe the object in a way that’s easy for end users to understand.\n",
        "\n",
        "✅ __repr__ (Developer-Friendly / Debugging Representation)\n",
        "\n",
        ".Purpose: To return an unambiguous string that shows the object in a way that developers (and Python) can understand.\n",
        "\n",
        ".Used when you call repr(obj) or type the object name directly in the interpreter.\n",
        "\n",
        ".Ideally, it should return a string that can be used to recreate the object (like code)\n",
        "\n",
        "\n",
        ".class Student:\n",
        "    def __init__(self, name, marks):\n",
        "        self.name = name\n",
        "        self.marks = marks\n",
        "    \n",
        "    def __str__(self):\n",
        "        return f\"Student Name: {self.name}, Marks: {self.marks}\"\n",
        "    \n",
        "    def __repr__(self):\n",
        "        return f\"Student('{self.name}', {self.marks})\"\n",
        "\n",
        "# Creating object\n",
        "s = Student(\"Bejeel\", 85)\n",
        "\n",
        "print(s)          # Calls __str__ -> user-friendly\n",
        "\n",
        "print(str(s))     # Same as above\n",
        "\n",
        "print(repr(s))    # Calls __repr__ -> developer-friendly\n",
        "\n",
        "s                 # In Colab/Jupyter, shows __repr__\n",
        "\n",
        "#output\n",
        "\n",
        "Student Name: Bejeel, Marks: 85\n",
        "\n",
        "Student Name: Bejeel, Marks: 85\n",
        "\n",
        "Student('Bejeel', 85)\n",
        "\n",
        "Student('Bejeel', 85)\n",
        "\n",
        "Q20.What is the significance of the ‘super()’ function in Python?\n",
        "\n",
        "**Ans**-. The super() function in python is used to call a method fromm the prent (base) class inside a child (derived) class.\n",
        "\n",
        "It is mainly used in interitance to:\n",
        "\n",
        "1. Access parent class methods.\n",
        "\n",
        "2. Call the parent class constructor.\n",
        "\n",
        "3. Avoid rewritting code already defined in the parent.\n",
        "\n",
        "Why to use super()?\n",
        "\n",
        ". Promotes code reusability.\n",
        "\n",
        ". Makes code eaiser to maintain.\n",
        "\n",
        ". Works well eith multiple inheritance by following the method resolution order (MRO).\n",
        "\n",
        "The super() function in python is significant because it lets a child class access and reuse methods or constructors of its parents class, ensuring code reusability maintainability and proper method resolution in multiple inheritance.\n",
        "\n",
        "Q21. What is the significance of the _ _ del _ _ method in Python?\n",
        "\n",
        "**Ans**-.The _ _ del _ _ method in Python is known as the destructor method.\n",
        "\n",
        "It is automatically called when an object is about to be destroyed, i.e., when its reference count reaches zero and it is garbage collected.\n",
        "\n",
        "Significance of _ _ del _ _ in Python.\n",
        "\n",
        "1. Resource Cleanup\n",
        "\n",
        "It allows you to define custom actions that should happen when an object is deleted. For example:\n",
        "\n",
        ".Closing files\n",
        "\n",
        ".Releasing memory\n",
        "\n",
        ".Disconnecting from a database\n",
        "\n",
        ".Releasing network resources\n",
        "\n",
        "2. Automatic Invocation\n",
        "\n",
        "Python calls __del__ automatically when the object is no longer in use (just before garbage collection).\n",
        "\n",
        "3. Similar to Destructor in Other Languages\n",
        "\n",
        "Like in C++ or Java, it is used for cleanup tasks, but in Python it is not as commonly used because of its garbage collection system\n",
        "\n",
        "class FileHandler:\n",
        "    def __init__(self, filename):\n",
        "        self.file = open(filename, \"w\")\n",
        "        print(\"File opened\")\n",
        "\n",
        "    def __del__(self):\n",
        "        self.file.close()\n",
        "        print(\"File closed\")\n",
        "\n",
        "# Creating object\n",
        "obj = FileHandler(\"test.txt\")\n",
        "\n",
        "# Deleting object manually\n",
        "del obj\n",
        "\n",
        "**Output**\n",
        "\n",
        "File opened\n",
        "\n",
        "File closed\n",
        "\n",
        "Q22.What is the difference between @staticmethod and @classmethod in Python?\n",
        "\n",
        "**Ans**-.\n",
        "1. @staticmethod\n",
        "\n",
        ".Definition: A static method does not depend on the instance (self) or the class (cls).\n",
        "\n",
        ".Parameters: It does not take self or cls as the first argument.\n",
        "\n",
        ".Use case: Used when you want a method that logically belongs to the class but doesn’t need to access or modify class/instance data.\n",
        "\n",
        "2. @classmethod\n",
        "\n",
        ".Definition: A class method works with the class itself.\n",
        "\n",
        ".Parameters: It takes cls (the class) as the first parameter.\n",
        "\n",
        ".Use case: Used when you need to access or modify class-level data (not instance data).\n",
        "\n",
        "**Comparison table**\n",
        "\n",
        "| Feature                | @staticmethod                 | @classmethod                             |\n",
        "| ---------------------- | ----------------------------- | ---------------------------------------- |\n",
        "| First Parameter        | No `self` or `cls` required   | Takes `cls` as first parameter           |\n",
        "| Works on               | General utility functions     | Class-level data (shared by all objects) |\n",
        "| Can modify class data  | ❌ No                          | ✅ Yes                                    |\n",
        "| Can modify object data | ❌ No                          | ❌ No (only class-level, not instance)    |\n",
        "| Access                 | Cannot access `self` or `cls` | Can access `cls` but not `self`          |\n",
        "\n",
        "\n",
        "Q23.How does polymorphism work in Python with inheritance?\n",
        "\n",
        "**Ans**-.Polymorphism in Python with Inheritance\n",
        "\n",
        "Definition\n",
        "\n",
        "Polymorphism means “many forms”. In Python OOP, polymorphism allows methods in different classes to have the same name but perform different tasks.\n",
        "When combined with inheritance, it lets a child class override methods of the parent class and provide its own behavior.\n",
        "\n",
        "How it works with Inheritance\n",
        "\n",
        "1. A base (parent) class defines a method.\n",
        "\n",
        "2. A derived (child) class overrides the same method with a different implementation.\n",
        "\n",
        "3. When you call the method using an object, the method of the actual object’s class gets executed (not just the parent’s version).\n",
        "\n",
        "→ This is called method overriding, a key part of polymorphism.\n",
        "\n",
        "Q24.What is method chaining in Python OOP?\n",
        "\n",
        "**Ans**-. Method chaining is technique in object-oriented programming where multiple methods are called on the same object in a single line one after another.\n",
        "\n",
        ". Each method returns the object itself (self) allowing another method to be called immediately.\n",
        "\n",
        ". It makes the code more concise and readable.\n",
        "\n",
        "**How method chaining works**\n",
        "\n",
        "1. It defines methods inside the class.\n",
        "\n",
        "2. Each method performs an operation and returns self.\n",
        "\n",
        "3. This allows continuous chaining of methods on the same object.\n",
        "\n",
        "Q25.What is the purpose of the _ _ call _ _ method in Python?\n",
        "\n",
        "**Ans**-. In python the _ _ call _ _ method is a special dunder (double underscore) method that allows an object of a class to be called like a function.\n",
        "\n",
        ". Normally function are called using function().\n",
        "\n",
        ". If a class defines _ _ call _ _ its object can also be invoked like functions.\n",
        "\n",
        "purpose of the _ _ call _ _ method\n",
        "\n",
        "1. Makes objects callable like functions.\n",
        "\n",
        "2. Used to encapsulation function like function-like behavior inside objects.\n",
        "\n",
        "3. useful in cases like.\n",
        "\n",
        ". Wrapping logic in callable object.\n",
        "\n",
        ". Creating function object.\n",
        "\n",
        ". Implementing decorators.\n",
        "\n",
        "\n"
      ],
      "metadata": {
        "id": "hBwpJ_oEry1M"
      }
    },
    {
      "cell_type": "markdown",
      "source": [
        "**Practical Questions**"
      ],
      "metadata": {
        "id": "Ii4AK2uhqR7d"
      }
    },
    {
      "cell_type": "markdown",
      "source": [
        "Q1.1. Create a parent class Animal with a method speak() that prints a generic message. Create a child class Dog\n",
        "that overrides the speak() method to print \"Bark!\"?"
      ],
      "metadata": {
        "id": "eq5oE6xhqf6U"
      }
    },
    {
      "cell_type": "code",
      "source": [
        "\n",
        "class Animal:\n",
        "    def speak(self):\n",
        "        print(\"This animal makes a sound\")\n",
        "\n",
        "class Dog(Animal):\n",
        "    def speak(self):\n",
        "        print(\"Bark!\")\n",
        "\n",
        "\n",
        "a = Animal()\n",
        "a.speak()\n",
        "\n",
        "d = Dog()\n",
        "d.speak()\n"
      ],
      "metadata": {
        "id": "YR0eQuyP-Rns",
        "colab": {
          "base_uri": "https://localhost:8080/"
        },
        "outputId": "58cb5773-d4f3-4252-cd5c-9c67377242d7"
      },
      "execution_count": 4,
      "outputs": [
        {
          "output_type": "stream",
          "name": "stdout",
          "text": [
            "This animal makes a sound\n",
            "Bark!\n"
          ]
        }
      ]
    },
    {
      "cell_type": "markdown",
      "source": [
        "Q2. Write a program to create an abstract class Shape with a method area(). Derive classes Circle and Rectangle\n",
        "from it and implement the area() method in both?"
      ],
      "metadata": {
        "id": "NlPQROborP8d"
      }
    },
    {
      "cell_type": "code",
      "source": [
        "from abc import ABC, abstractmethod\n",
        "import math\n",
        "\n",
        "class Shape(ABC):\n",
        "    @abstractmethod\n",
        "    def area(self):\n",
        "        pass\n",
        "\n",
        "\n",
        "class Circle(Shape):\n",
        "    def __init__(self, radius):\n",
        "        self.radius = radius\n",
        "\n",
        "    def area(self):\n",
        "        return math.pi * self.radius ** 2\n",
        "\n",
        "\n",
        "class Rectangle(Shape):\n",
        "    def __init__(self, length, width):\n",
        "        self.length = length\n",
        "        self.width = width\n",
        "\n",
        "    def area(self):\n",
        "        return self.length * self.width\n",
        "\n",
        "c = Circle(5)\n",
        "r = Rectangle(4, 6)\n",
        "\n",
        "print(\"Area of Circle:\", c.area())\n",
        "print(\"Area of Rectangle:\", r.area())\n"
      ],
      "metadata": {
        "colab": {
          "base_uri": "https://localhost:8080/"
        },
        "id": "1oNU3qC7rgKG",
        "outputId": "175afbdd-6ca1-4358-c517-28c534a7d49e"
      },
      "execution_count": 5,
      "outputs": [
        {
          "output_type": "stream",
          "name": "stdout",
          "text": [
            "Area of Circle: 78.53981633974483\n",
            "Area of Rectangle: 24\n"
          ]
        }
      ]
    },
    {
      "cell_type": "markdown",
      "source": [
        "Q3. Implement a multi-level inheritance scenario where a class Vehicle has an attribute type. Derive a class Car\n",
        "and further derive a class ElectricCar that adds a battery attribute?"
      ],
      "metadata": {
        "id": "Hg3bAPBpr8RF"
      }
    },
    {
      "cell_type": "code",
      "source": [
        "class Vehicle:\n",
        "  def __init__(self, type):\n",
        "    self.type = type\n",
        "\n",
        "class Car(Vehicle):\n",
        "  def __init__(self, type, model):\n",
        "    super().__init__(type)\n",
        "    self.model = model\n",
        "\n",
        "\n",
        "class ElectricCar(Car):\n",
        "  def __init__(self, type, model, battery):\n",
        "    super().__init__(type, model)\n",
        "    self.battery = battery\n",
        "\n",
        "ecar = ElectricCar(\"Car\", \"Tesla Model 3\", \"75 kWh\")\n",
        "print(\"Type:\", ecar.type)\n",
        "print(\"Model:\", ecar.model)\n",
        "print(\"Battery:\", ecar.battery)"
      ],
      "metadata": {
        "colab": {
          "base_uri": "https://localhost:8080/"
        },
        "id": "3H7b7TjRsBz8",
        "outputId": "f7da28de-ccfe-43e1-ba72-1efb31eb225c"
      },
      "execution_count": 8,
      "outputs": [
        {
          "output_type": "stream",
          "name": "stdout",
          "text": [
            "Type: Car\n",
            "Model: Tesla Model 3\n",
            "Battery: 75 kWh\n"
          ]
        }
      ]
    },
    {
      "cell_type": "markdown",
      "source": [
        "Q4.Demonstrate polymorphism by creating a base class Bird with a method fly(). Create two derived classes\n",
        "Sparrow and Penguin that override the fly() method?\n"
      ],
      "metadata": {
        "id": "pqiEhcqUs5B8"
      }
    },
    {
      "cell_type": "code",
      "source": [
        "class Bird:\n",
        "    def fly(self):\n",
        "        print(\"This bird can fly.\")\n",
        "\n",
        "class Sparrow(Bird):\n",
        "    def fly(self):\n",
        "        print(\"Sparrow can fly high.\")\n",
        "\n",
        "class Penguin(Bird):\n",
        "    def fly(self):\n",
        "        print(\"Penguins cannot fly.\")\n",
        "\n",
        "birds = [Sparrow(), Penguin()]\n",
        "\n",
        "for bird in birds:\n",
        "    bird.fly()\n"
      ],
      "metadata": {
        "colab": {
          "base_uri": "https://localhost:8080/"
        },
        "id": "gb_C5XSvs9fE",
        "outputId": "6937f1a5-4d75-4f19-9fb5-7dd9c59d3c10"
      },
      "execution_count": 10,
      "outputs": [
        {
          "output_type": "stream",
          "name": "stdout",
          "text": [
            "Sparrow can fly high.\n",
            "Penguins cannot fly.\n"
          ]
        }
      ]
    },
    {
      "cell_type": "markdown",
      "source": [
        "Q5. Write a program to demonstrate encapsulation by creating a class BankAccount with private attributes\n",
        "balance and methods to deposit, withdraw, and check balance?"
      ],
      "metadata": {
        "id": "-FjjRF3xtjxb"
      }
    },
    {
      "cell_type": "code",
      "source": [
        "class BankAccount:\n",
        "    def __init__(self, initial_balance=0):\n",
        "\n",
        "        self.__balance = initial_balance\n",
        "\n",
        "\n",
        "    def deposit(self, amount):\n",
        "        if amount > 0:\n",
        "            self.__balance += amount\n",
        "            print(f\"Deposited: {amount}\")\n",
        "        else:\n",
        "            print(\"Deposit amount must be positive.\")\n",
        "\n",
        "    def withdraw(self, amount):\n",
        "        if 0 < amount <= self.__balance:\n",
        "            self.__balance -= amount\n",
        "            print(f\"Withdrew: {amount}\")\n",
        "        else:\n",
        "            print(\"Insufficient balance or invalid amount.\")\n",
        "\n",
        "\n",
        "    def check_balance(self):\n",
        "        print(f\"Current Balance: {self.__balance}\")\n",
        "\n",
        "\n",
        "\n",
        "account = BankAccount(1000)\n",
        "\n",
        "account.check_balance()\n",
        "account.deposit(500)\n",
        "account.withdraw(300)\n",
        "account.withdraw(1500)\n",
        "account.check_balance()\n"
      ],
      "metadata": {
        "colab": {
          "base_uri": "https://localhost:8080/"
        },
        "id": "WbTWp3WBtpoL",
        "outputId": "b81fc147-4ec4-46da-b6a0-c5bba7af7235"
      },
      "execution_count": 14,
      "outputs": [
        {
          "output_type": "stream",
          "name": "stdout",
          "text": [
            "Current Balance: 1000\n",
            "Deposited: 500\n",
            "Withdrew: 300\n",
            "Insufficient balance or invalid amount.\n",
            "Current Balance: 1200\n"
          ]
        }
      ]
    },
    {
      "cell_type": "markdown",
      "source": [
        "Q6.Demonstrate runtime polymorphism using a method play() in a base class Instrument. Derive classes Guitar\n",
        "and Piano that implement their own version of play()?"
      ],
      "metadata": {
        "id": "IHDOm4Szuves"
      }
    },
    {
      "cell_type": "code",
      "source": [
        "class Instrument:\n",
        "    def play(self):\n",
        "        print(\"Playing an instrument...\")\n",
        "\n",
        "class Guitar(Instrument):\n",
        "    def play(self):\n",
        "        print(\"playing the guitar\")\n",
        "\n",
        "\n",
        "class Piano(Instrument):\n",
        "    def play(self):\n",
        "        print(\"Playing the piano\")\n",
        "\n",
        "\n",
        "instruments = [Guitar(), Piano()]\n",
        "\n",
        "for instrument in instruments:\n",
        "    instrument.play()\n"
      ],
      "metadata": {
        "colab": {
          "base_uri": "https://localhost:8080/"
        },
        "id": "wWspb3d0u2EC",
        "outputId": "35eb45fa-f27f-4495-d62c-2278c7b53434"
      },
      "execution_count": 16,
      "outputs": [
        {
          "output_type": "stream",
          "name": "stdout",
          "text": [
            "playing the guitar\n",
            "Playing the piano\n"
          ]
        }
      ]
    },
    {
      "cell_type": "markdown",
      "source": [
        "Q7. Create a class MathOperations with a class method add_numbers() to add two numbers and a static\n",
        "method subtract_numbers() to subtract two numbers?"
      ],
      "metadata": {
        "id": "F3B-09uywKKD"
      }
    },
    {
      "cell_type": "code",
      "source": [
        "class MathOperations:\n",
        "\n",
        "\n",
        "    @classmethod\n",
        "    def add_numbers(cls, a, b):\n",
        "        return a + b\n",
        "\n",
        "\n",
        "    @staticmethod\n",
        "    def subtract_numbers(a, b):\n",
        "        return a - b\n",
        "\n",
        "\n",
        "result1 = MathOperations.add_numbers(20, 5)\n",
        "print(\"Addition Result:\", result1)\n",
        "\n",
        "result2 = MathOperations.subtract_numbers(20, 5)\n",
        "print(\"Subtraction Result:\", result2)\n"
      ],
      "metadata": {
        "colab": {
          "base_uri": "https://localhost:8080/"
        },
        "id": "XQr43EwWxbZj",
        "outputId": "9ac7c6ca-e22d-4361-f320-b687ca459aef"
      },
      "execution_count": 18,
      "outputs": [
        {
          "output_type": "stream",
          "name": "stdout",
          "text": [
            "Addition Result: 25\n",
            "Subtraction Result: 15\n"
          ]
        }
      ]
    },
    {
      "cell_type": "markdown",
      "source": [
        "Q8. Implement a class Person with a class method to count the total number of persons created?"
      ],
      "metadata": {
        "id": "ogJO_4y7xu86"
      }
    },
    {
      "cell_type": "code",
      "source": [
        "class Person:\n",
        "  count = 0\n",
        "  def __init__(self, name):\n",
        "    self.name = name\n",
        "    Person.count += 1\n",
        "\n",
        "  @classmethod\n",
        "  def total_persons(cls):\n",
        "      return cls.count\n",
        "\n",
        "\n",
        "p1 = Person(\"Bejeel\")\n",
        "p2 = Person(\"Denis\")\n",
        "p3 = Person(\"Jorden\")\n",
        "\n",
        "print(\"Total Persons:\", Person.total_persons())"
      ],
      "metadata": {
        "colab": {
          "base_uri": "https://localhost:8080/"
        },
        "id": "jBWC4PuZxusK",
        "outputId": "d8396e60-6f5a-499d-a5e0-2a06e5f4c493"
      },
      "execution_count": 21,
      "outputs": [
        {
          "output_type": "stream",
          "name": "stdout",
          "text": [
            "Total Persons: 3\n"
          ]
        }
      ]
    },
    {
      "cell_type": "markdown",
      "source": [
        "Q9.Write a class Fraction with attributes numerator and denominator. Override the str method to display the\n",
        "fraction as \"numerator/denominator\"?"
      ],
      "metadata": {
        "id": "hnjQbnx4ys1C"
      }
    },
    {
      "cell_type": "code",
      "source": [
        "class Fraction:\n",
        "    def __init__(self, numerator, denominator):\n",
        "        self.numerator = numerator\n",
        "        self.denominator = denominator\n",
        "\n",
        "\n",
        "    def __str__(self):\n",
        "        return f\"{self.numerator}/{self.denominator}\"\n",
        "\n",
        "\n",
        "f1 = Fraction(7, 2)\n",
        "f2 = Fraction(9, 4)\n",
        "\n",
        "print(\"First Fraction:\", f1)\n",
        "print(\"Second Fraction:\", f2)\n"
      ],
      "metadata": {
        "colab": {
          "base_uri": "https://localhost:8080/"
        },
        "id": "zY8zhUjpy39J",
        "outputId": "b34c1d05-0779-4ce3-81ec-6cf7009655d7"
      },
      "execution_count": 23,
      "outputs": [
        {
          "output_type": "stream",
          "name": "stdout",
          "text": [
            "First Fraction: 7/2\n",
            "Second Fraction: 9/4\n"
          ]
        }
      ]
    },
    {
      "cell_type": "markdown",
      "source": [
        "Q10. Demonstrate operator overloading by creating a class Vector and overriding the add method to add two\n",
        "vectors?"
      ],
      "metadata": {
        "id": "kGnq7sZdzK0C"
      }
    },
    {
      "cell_type": "code",
      "source": [
        "class Vector:\n",
        "    def __init__(self, x, y):\n",
        "        self.x = x\n",
        "        self.y = y\n",
        "\n",
        "\n",
        "    def __add__(self, other):\n",
        "        return Vector(self.x + other.x, self.y + other.y)\n",
        "\n",
        "\n",
        "    def __str__(self):\n",
        "        return f\"({self.x}, {self.y})\"\n",
        "\n",
        "\n",
        "v1 = Vector(4, 3)\n",
        "v2 = Vector(6, 5)\n",
        "v3 = v1 + v2\n",
        "print(\"Resultant Vector:\", v3)\n"
      ],
      "metadata": {
        "colab": {
          "base_uri": "https://localhost:8080/"
        },
        "id": "TTMAxhxYzOdp",
        "outputId": "1a5e1c95-1294-4ffa-c4de-6c0e26a94fa8"
      },
      "execution_count": 27,
      "outputs": [
        {
          "output_type": "stream",
          "name": "stdout",
          "text": [
            "Resultant Vector: (10, 8)\n"
          ]
        }
      ]
    },
    {
      "cell_type": "markdown",
      "source": [
        "Q11. Create a class Person with attributes name and age. Add a method greet() that prints \"Hello, my name is\n",
        "{name} and I am {age} years old.?"
      ],
      "metadata": {
        "id": "Ye8qoDxSz7Nw"
      }
    },
    {
      "cell_type": "code",
      "source": [
        "class Person:\n",
        "    def __init__(self, name, age):\n",
        "        self.name = name\n",
        "        self.age = age\n",
        "\n",
        "    def greet(self):\n",
        "        print(f\"Hello, my name is {self.name} and I am {self.age} years old.\")\n",
        "\n",
        "\n",
        "p1 = Person(\"Bejeel\", 23)\n",
        "p1.greet()\n",
        "\n"
      ],
      "metadata": {
        "colab": {
          "base_uri": "https://localhost:8080/"
        },
        "id": "Vc8I9Dwh0AMx",
        "outputId": "d1f711da-dae9-4a88-a423-47a7254f4c57"
      },
      "execution_count": 32,
      "outputs": [
        {
          "output_type": "stream",
          "name": "stdout",
          "text": [
            "Hello, my name is Bejeel and I am 23 years old.\n"
          ]
        }
      ]
    },
    {
      "cell_type": "markdown",
      "source": [
        "Q12. Implement a class Student with attributes name and grades. Create a method average_grade() to compute\n",
        "the average of the grades?"
      ],
      "metadata": {
        "id": "_uros81i0ioS"
      }
    },
    {
      "cell_type": "code",
      "source": [
        "class Student:\n",
        "    def __init__(self, name, grades):\n",
        "        self.name = name\n",
        "        self.grades = grades\n",
        "\n",
        "\n",
        "    def average_grade(self):\n",
        "        if len(self.grades) == 0:\n",
        "            return 0\n",
        "        return sum(self.grades) / len(self.grades)\n",
        "\n",
        "\n",
        "s1 = Student(\"Bejeel\", [86, 90, 88, 92])\n",
        "print(f\"{s1.name}'s Average Grade: {s1.average_grade()}\")\n",
        "\n"
      ],
      "metadata": {
        "colab": {
          "base_uri": "https://localhost:8080/"
        },
        "id": "QgD6U7Bj0pDi",
        "outputId": "00f2af17-f4c8-4c93-b520-e841c8db2600"
      },
      "execution_count": 30,
      "outputs": [
        {
          "output_type": "stream",
          "name": "stdout",
          "text": [
            "Bejeel's Average Grade: 89.0\n"
          ]
        }
      ]
    },
    {
      "cell_type": "markdown",
      "source": [
        "Q13.Create a class Rectangle with methods set_dimensions() to set the dimensions and area() to calculate the\n",
        "area?"
      ],
      "metadata": {
        "id": "UAtKFxjk1XzK"
      }
    },
    {
      "cell_type": "code",
      "source": [
        "class Rectangle:\n",
        "    def __init__(self):\n",
        "        self.length = 0\n",
        "        self.width = 0\n",
        "\n",
        "    def set_dimensions(self, length, width):\n",
        "        self.length = length\n",
        "        self.width = width\n",
        "\n",
        "\n",
        "    def area(self):\n",
        "        return self.length * self.width\n",
        "\n",
        "\n",
        "rect1 = Rectangle()\n",
        "rect1.set_dimensions(5, 5)\n",
        "\n",
        "\n",
        "print(\"Area of Rectangle:\", rect1.area())\n"
      ],
      "metadata": {
        "colab": {
          "base_uri": "https://localhost:8080/"
        },
        "id": "u5EpcWTm1eOh",
        "outputId": "a014cc1d-9582-4651-d4e5-33b58ee63523"
      },
      "execution_count": 34,
      "outputs": [
        {
          "output_type": "stream",
          "name": "stdout",
          "text": [
            "Area of Rectangle: 25\n"
          ]
        }
      ]
    },
    {
      "cell_type": "markdown",
      "source": [
        "Q14. Create a class Employee with a method calculate_salary() that computes the salary based on hours worked\n",
        "and hourly rate. Create a derived class Manager that adds a bonus to the salary?"
      ],
      "metadata": {
        "id": "l0U-LoCb2QmA"
      }
    },
    {
      "cell_type": "code",
      "source": [
        "class Employee:\n",
        "  def __init__(self, name, hours_worked, hourly_rate):\n",
        "    self.name = name\n",
        "    self.hours_worked = hours_worked\n",
        "    self.hourly_rate = hourly_rate\n",
        "\n",
        "  def calculate_salary(self):\n",
        "    return self.hours_worked * self.hourly_rate\n",
        "\n",
        "class Manager(Employee):\n",
        "  def __init__(self, name, hours_worked, hourly_rate, bonus):\n",
        "    super().__init__(name, hours_worked, hourly_rate)\n",
        "    self.bonus = bonus\n",
        "  def calculate_salary(self):\n",
        "    return super().calculate_salary() + self.bonus\n",
        "\n",
        "emp = Employee(\"Bejeel\", 40, 20)\n",
        "mgr = Manager(\"Denis\", 40, 20, 500)\n",
        "print(\"Employee salary:\", emp.calculate_salary())\n",
        "print(\"Manager salary:\", mgr.calculate_salary())\n"
      ],
      "metadata": {
        "colab": {
          "base_uri": "https://localhost:8080/"
        },
        "id": "qN6jvmRF25xh",
        "outputId": "c4e153e4-d4a2-4312-e7ad-7d4c8ec80565"
      },
      "execution_count": 37,
      "outputs": [
        {
          "output_type": "stream",
          "name": "stdout",
          "text": [
            "Employee salary: 800\n",
            "Manager salary: 1300\n"
          ]
        }
      ]
    },
    {
      "cell_type": "markdown",
      "source": [
        "Q15.Create a class Product with attributes name, price, and quantity. Implement a method total_price() that\n",
        "calculates the total price of the product?"
      ],
      "metadata": {
        "id": "ZBbp4pSO3bn4"
      }
    },
    {
      "cell_type": "code",
      "source": [
        "class Product:\n",
        "    def __init__(self, name, price, quantity):\n",
        "        self.name = name\n",
        "        self.price = price\n",
        "        self.quantity = quantity\n",
        "\n",
        "\n",
        "    def total_price(self):\n",
        "        return self.price * self.quantity\n",
        "\n",
        "\n",
        "\n",
        "p1 = Product(\"Laptop\", 5000, 2)\n",
        "\n",
        "\n",
        "print(\"Total Price:\", {p1.total_price()})\n",
        "\n"
      ],
      "metadata": {
        "colab": {
          "base_uri": "https://localhost:8080/"
        },
        "id": "C0Lg7WG73fo4",
        "outputId": "9b72c855-d984-49be-80f8-f79cbab48087"
      },
      "execution_count": 44,
      "outputs": [
        {
          "output_type": "stream",
          "name": "stdout",
          "text": [
            "Total Price: {10000}\n"
          ]
        }
      ]
    },
    {
      "cell_type": "markdown",
      "source": [
        "Q16.Create a class Animal with an abstract method sound(). Create two derived classes Cow and Sheep that\n",
        "implement the sound() method?"
      ],
      "metadata": {
        "id": "tYqM0vUq4YnI"
      }
    },
    {
      "cell_type": "code",
      "source": [
        "from abc import ABC, abstractmethod\n",
        "class Animal(ABC):\n",
        "\n",
        "    @abstractmethod\n",
        "    def sound(self):\n",
        "        pass\n",
        "\n",
        "\n",
        "class Cow(Animal):\n",
        "    def sound(self):\n",
        "        return \"Moo\"\n",
        "\n",
        "\n",
        "class Sheep(Animal):\n",
        "    def sound(self):\n",
        "        return \"Baa\"\n",
        "\n",
        "\n",
        "cow = Cow()\n",
        "sheep = Sheep()\n",
        "\n",
        "print(\"Sound of cow:\", cow.sound())\n",
        "print(\"Sound of sheep:\", sheep.sound())\n"
      ],
      "metadata": {
        "colab": {
          "base_uri": "https://localhost:8080/"
        },
        "id": "uQpz6FqP4-I3",
        "outputId": "96967d0e-b743-411c-c7f0-07ea85651aa7"
      },
      "execution_count": 46,
      "outputs": [
        {
          "output_type": "stream",
          "name": "stdout",
          "text": [
            "Sound of cow: Moo\n",
            "Sound of sheep: Baa\n"
          ]
        }
      ]
    },
    {
      "cell_type": "markdown",
      "source": [
        "Q17. Create a class Book with attributes title, author, and year_published. Add a method get_book_info() that\n",
        "returns a formatted string with the book's details?"
      ],
      "metadata": {
        "id": "X6d9V3Kq5WqY"
      }
    },
    {
      "cell_type": "code",
      "source": [
        "class Book:\n",
        "    def __init__(self, title, author, year_published):\n",
        "        self.title = title\n",
        "        self.author = author\n",
        "        self.year_published = year_published\n",
        "\n",
        "\n",
        "    def get_book_info(self):\n",
        "        return f\"'{self.title}' by {self.author}, published in {self.year_published}\"\n",
        "\n",
        "book1 = Book(\"1984\", \"George Orwell\", 1949)\n",
        "\n",
        "print(book1.get_book_info())\n"
      ],
      "metadata": {
        "colab": {
          "base_uri": "https://localhost:8080/"
        },
        "id": "YWKKyipW5bnI",
        "outputId": "9e3eb83f-d1e3-4cda-9388-ef234ad5db45"
      },
      "execution_count": 47,
      "outputs": [
        {
          "output_type": "stream",
          "name": "stdout",
          "text": [
            "'1984' by George Orwell, published in 1949\n"
          ]
        }
      ]
    },
    {
      "cell_type": "markdown",
      "source": [
        "Q18. Create a class House with attributes address and price. Create a derived class Mansion that adds an\n",
        "attribute number_of_rooms?"
      ],
      "metadata": {
        "id": "BLNkss415-gv"
      }
    },
    {
      "cell_type": "code",
      "source": [
        "class House:\n",
        "  def __init__(self, address, price):\n",
        "    self.address = address\n",
        "    self.price = price\n",
        "\n",
        "class Mansion(House):\n",
        "  def __init__(self, address, price, number_of_rooms):\n",
        "    super().__init__(address, price)\n",
        "    self.number_of_rooms = number_of_rooms\n",
        "\n",
        "\n",
        "\n",
        "m = Mansion(\"123 Luxury St\", 500000, 8)\n",
        "print(\"Address:\", m.address)\n",
        "print(\"Price:\", m.price)\n",
        "print(\"Number of rooms:\", m.number_of_rooms)\n"
      ],
      "metadata": {
        "colab": {
          "base_uri": "https://localhost:8080/"
        },
        "id": "PADFYW4e67CP",
        "outputId": "41543897-7f41-42fc-b2d0-d1492836e199"
      },
      "execution_count": 51,
      "outputs": [
        {
          "output_type": "stream",
          "name": "stdout",
          "text": [
            "Address: 123 Luxury St\n",
            "Price: 500000\n",
            "Number of rooms: 8\n"
          ]
        }
      ]
    }
  ]
}